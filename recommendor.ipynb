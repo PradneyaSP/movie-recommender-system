{
 "cells": [
  {
   "cell_type": "code",
   "execution_count": 1,
   "metadata": {},
   "outputs": [],
   "source": [
    "# Import necessary libraries\n",
    "import pandas as pd\n",
    "import numpy as np\n",
    "import matplotlib.pyplot as plt\n",
    "import seaborn as sns\n",
    "from sklearn.model_selection import train_test_split\n",
    "from sklearn.preprocessing import MultiLabelBinarizer\n",
    "from sklearn.preprocessing import MinMaxScaler"
   ]
  },
  {
   "cell_type": "code",
   "execution_count": 2,
   "metadata": {},
   "outputs": [
    {
     "name": "stderr",
     "output_type": "stream",
     "text": [
      "C:\\Users\\Pradneya Prabhudesai\\AppData\\Local\\Temp\\ipykernel_20100\\1763590552.py:3: DtypeWarning: Columns (1) have mixed types. Specify dtype option on import or set low_memory=False.\n",
      "  tags = pd.read_csv('data/tags.csv')\n"
     ]
    }
   ],
   "source": [
    "ratings = pd.read_csv('data/ratings.csv')\n",
    "movies = pd.read_csv('data/movies.csv')\n",
    "tags = pd.read_csv('data/tags.csv')\n",
    "links = pd.read_csv('data/links.csv')"
   ]
  },
  {
   "cell_type": "code",
   "execution_count": 3,
   "metadata": {},
   "outputs": [],
   "source": [
    "# Spliting the genres column into multiple columns and encoding them\n",
    "movies['genres'] = movies['genres'].str.split('|')\n",
    "mlb = MultiLabelBinarizer()\n",
    "genres_encoded = mlb.fit_transform(movies['genres'])\n",
    "genres_df = pd.DataFrame(genres_encoded, columns=mlb.classes_)\n",
    "movies = movies.join(genres_df)"
   ]
  },
  {
   "cell_type": "code",
   "execution_count": 4,
   "metadata": {},
   "outputs": [],
   "source": [
    "# Convert the timestamp to datetime\n",
    "ratings['timestamp'] = pd.to_datetime(ratings['timestamp'], unit='s')\n",
    "ratings['year'] = ratings['timestamp'].dt.year"
   ]
  },
  {
   "cell_type": "code",
   "execution_count": 5,
   "metadata": {},
   "outputs": [],
   "source": [
    "# Normalize the ratings\n",
    "scaler = MinMaxScaler()\n",
    "ratings['rating_normalized'] = scaler.fit_transform(ratings['rating'].values.reshape(-1, 1))"
   ]
  },
  {
   "cell_type": "code",
   "execution_count": 6,
   "metadata": {},
   "outputs": [],
   "source": [
    "# Filter out movies with less than 5 ratings\n",
    "min_movie_ratings = 5\n",
    "movie_counts = ratings['movieId'].value_counts()\n",
    "ratings = ratings[ratings['movieId'].isin(movie_counts[movie_counts >= min_movie_ratings].index)]"
   ]
  },
  {
   "cell_type": "code",
   "execution_count": 7,
   "metadata": {},
   "outputs": [
    {
     "name": "stdout",
     "output_type": "stream",
     "text": [
      "Ratings Dataframe Details\n",
      "(31921467, 6)\n",
      "<class 'pandas.core.frame.DataFrame'>\n",
      "Index: 31921467 entries, 0 to 32000203\n",
      "Data columns (total 6 columns):\n",
      " #   Column             Dtype         \n",
      "---  ------             -----         \n",
      " 0   userId             int64         \n",
      " 1   movieId            int64         \n",
      " 2   rating             float64       \n",
      " 3   timestamp          datetime64[ns]\n",
      " 4   year               int32         \n",
      " 5   rating_normalized  float64       \n",
      "dtypes: datetime64[ns](1), float64(2), int32(1), int64(2)\n",
      "memory usage: 1.5 GB\n",
      "None\n"
     ]
    }
   ],
   "source": [
    "print(\"Ratings Dataframe Details\")\n",
    "print(ratings.shape)\n",
    "print(ratings.info())"
   ]
  },
  {
   "cell_type": "code",
   "execution_count": 8,
   "metadata": {},
   "outputs": [
    {
     "name": "stdout",
     "output_type": "stream",
     "text": [
      "Movies Dataframe Details\n",
      "(87585, 23)\n",
      "<class 'pandas.core.frame.DataFrame'>\n",
      "RangeIndex: 87585 entries, 0 to 87584\n",
      "Data columns (total 23 columns):\n",
      " #   Column              Non-Null Count  Dtype \n",
      "---  ------              --------------  ----- \n",
      " 0   movieId             87585 non-null  int64 \n",
      " 1   title               87585 non-null  object\n",
      " 2   genres              87585 non-null  object\n",
      " 3   (no genres listed)  87585 non-null  int32 \n",
      " 4   Action              87585 non-null  int32 \n",
      " 5   Adventure           87585 non-null  int32 \n",
      " 6   Animation           87585 non-null  int32 \n",
      " 7   Children            87585 non-null  int32 \n",
      " 8   Comedy              87585 non-null  int32 \n",
      " 9   Crime               87585 non-null  int32 \n",
      " 10  Documentary         87585 non-null  int32 \n",
      " 11  Drama               87585 non-null  int32 \n",
      " 12  Fantasy             87585 non-null  int32 \n",
      " 13  Film-Noir           87585 non-null  int32 \n",
      " 14  Horror              87585 non-null  int32 \n",
      " 15  IMAX                87585 non-null  int32 \n",
      " 16  Musical             87585 non-null  int32 \n",
      " 17  Mystery             87585 non-null  int32 \n",
      " 18  Romance             87585 non-null  int32 \n",
      " 19  Sci-Fi              87585 non-null  int32 \n",
      " 20  Thriller            87585 non-null  int32 \n",
      " 21  War                 87585 non-null  int32 \n",
      " 22  Western             87585 non-null  int32 \n",
      "dtypes: int32(20), int64(1), object(2)\n",
      "memory usage: 8.7+ MB\n",
      "None\n"
     ]
    }
   ],
   "source": [
    "print(\"Movies Dataframe Details\")\n",
    "print(movies.shape)\n",
    "print(movies.info())"
   ]
  },
  {
   "cell_type": "code",
   "execution_count": 9,
   "metadata": {},
   "outputs": [
    {
     "data": {
      "text/plain": [
       "movieId\n",
       "318       102929\n",
       "356       100296\n",
       "296        98409\n",
       "2571       93808\n",
       "593        90330\n",
       "           ...  \n",
       "278208         5\n",
       "153782         5\n",
       "177535         5\n",
       "176811         5\n",
       "175275         5\n",
       "Name: count, Length: 43884, dtype: int64"
      ]
     },
     "execution_count": 9,
     "metadata": {},
     "output_type": "execute_result"
    }
   ],
   "source": [
    "counts = ratings['movieId'].value_counts()\n",
    "counts"
   ]
  },
  {
   "cell_type": "code",
   "execution_count": 10,
   "metadata": {},
   "outputs": [],
   "source": [
    "# user_item_matrix = ratings.pivot(index='userId', columns='movieId', values='rating').fillna(0)\n",
    "# user_item_matrix \n",
    "\n",
    "from scipy.sparse import coo_matrix\n",
    "\n",
    "# Create the user-item matrix using sparse format\n",
    "user_item_matrix_sparse = coo_matrix((ratings['rating'], (ratings['userId'], ratings['movieId'])))\n"
   ]
  },
  {
   "cell_type": "code",
   "execution_count": 11,
   "metadata": {},
   "outputs": [],
   "source": [
    "train, test = train_test_split(ratings, test_size=0.2, random_state=42)\n"
   ]
  },
  {
   "cell_type": "code",
   "execution_count": 12,
   "metadata": {},
   "outputs": [],
   "source": [
    "from surprise import Dataset, Reader, SVD\n",
    "from surprise import accuracy\n",
    "\n",
    "# Define the reader for the dataset\n",
    "reader = Reader(rating_scale=(ratings['rating'].min(), ratings['rating'].max()))\n",
    "\n",
    "# Load the train and test data\n",
    "train_data = Dataset.load_from_df(train[['userId', 'movieId', 'rating']], reader).build_full_trainset()\n",
    "test_data = list(zip(test['userId'], test['movieId'], test['rating']))\n"
   ]
  },
  {
   "cell_type": "code",
   "execution_count": 13,
   "metadata": {},
   "outputs": [
    {
     "data": {
      "text/plain": [
       "<surprise.prediction_algorithms.matrix_factorization.SVD at 0x2ab834c3310>"
      ]
     },
     "execution_count": 13,
     "metadata": {},
     "output_type": "execute_result"
    }
   ],
   "source": [
    "# Initialize and train the SVD model\n",
    "svd = SVD()\n",
    "svd.fit(train_data)"
   ]
  },
  {
   "cell_type": "code",
   "execution_count": 14,
   "metadata": {},
   "outputs": [
    {
     "name": "stdout",
     "output_type": "stream",
     "text": [
      "RMSE: 0.7715\n",
      "Test RMSE: 0.7715218687761134\n"
     ]
    }
   ],
   "source": [
    "# Make predictions on the test set\n",
    "predictions = [svd.predict(uid=row[0], iid=row[1], r_ui=row[2]) for row in test_data]\n",
    "\n",
    "# Calculate RMSE without reusing the name\n",
    "test_rmse = accuracy.rmse(predictions, verbose=True)\n",
    "print(f\"Test RMSE: {test_rmse}\")"
   ]
  },
  {
   "cell_type": "code",
   "execution_count": 18,
   "metadata": {},
   "outputs": [
    {
     "name": "stdout",
     "output_type": "stream",
     "text": [
      "Top recommended movies for User 1554:\n",
      "Blade Runner (1982)\n",
      "Godfather, The (1972)\n",
      "Citizen Kane (1941)\n",
      "Princess Mononoke (Mononoke-hime) (1997)\n",
      "Spirited Away (Sen to Chihiro no kamikakushi) (2001)\n",
      "Welfare (1975)\n",
      "Twelve Angry Men (1954)\n",
      "Fishing with John (1991)\n",
      "My Neighbor Totoro (Tonari no Totoro) (1988)\n",
      "Seven Samurai (Shichinin no samurai) (1954)\n"
     ]
    }
   ],
   "source": [
    "def recommend_movies(user_id, svd, movies, ratings, top_n=10):\n",
    "    # Get all movie IDs\n",
    "    all_movies = set(movies['movieId'])\n",
    "    \n",
    "    # Get movies already rated by the user\n",
    "    rated_movies = set(ratings[ratings['userId'] == user_id]['movieId'])\n",
    "    \n",
    "    # Predict ratings for unseen movies\n",
    "    unseen_movies = all_movies - rated_movies\n",
    "    predictions = [(movie, svd.predict(user_id, movie).est) for movie in unseen_movies]\n",
    "    \n",
    "    # Sort movies by predicted rating\n",
    "    recommendations = sorted(predictions, key=lambda x: x[1], reverse=True)[:top_n]\n",
    "    \n",
    "    # Map back to movie titles\n",
    "    recommended_movie_titles = [movies[movies['movieId'] == movie].iloc[0]['title'] for movie, _ in recommendations]\n",
    "    return recommended_movie_titles\n",
    "\n",
    "# Example usage\n",
    "user_id = 1554\n",
    "top_movies = recommend_movies(user_id, svd, movies, ratings, top_n=10)\n",
    "print(f\"Top recommended movies for User {user_id}:\")\n",
    "for movie in top_movies:\n",
    "    print(movie)\n"
   ]
  },
  {
   "cell_type": "code",
   "execution_count": 16,
   "metadata": {},
   "outputs": [
    {
     "data": {
      "image/png": "[encoded data removed]",
      "text/plain": [
       "<Figure size 1000x600 with 1 Axes>"
      ]
     },
     "metadata": {},
     "output_type": "display_data"
    }
   ],
   "source": [
    "plt.figure(figsize=(10, 6))\n",
    "sns.countplot(x='rating', data=ratings)\n",
    "plt.title('Distribution of Ratings')\n",
    "plt.show()"
   ]
  },
  {
   "cell_type": "code",
   "execution_count": 17,
   "metadata": {},
   "outputs": [
    {
     "data": {
      "image/png": "[encoded data removed]",
      "text/plain": [
       "<Figure size 1000x600 with 1 Axes>"
      ]
     },
     "metadata": {},
     "output_type": "display_data"
    }
   ],
   "source": [
    "user_activity = ratings.groupby('userId').size()\n",
    "plt.figure(figsize=(10, 6))\n",
    "sns.histplot(user_activity, bins=50, kde=True)\n",
    "plt.title('User Activity: Number of Ratings per User')\n",
    "plt.xlabel('Number of Ratings')\n",
    "plt.ylabel('Number of Users')\n",
    "plt.show()"
   ]
  }
 ],
 "metadata": {
  "kernelspec": {
   "display_name": "ml_env",
   "language": "python",
   "name": "python3"
  },
  "language_info": {
   "codemirror_mode": {
    "name": "ipython",
    "version": 3
   },
   "file_extension": ".py",
   "mimetype": "text/x-python",
   "name": "python",
   "nbconvert_exporter": "python",
   "pygments_lexer": "ipython3",
   "version": "3.8.20"
  }
 },
 "nbformat": 4,
 "nbformat_minor": 2
}
